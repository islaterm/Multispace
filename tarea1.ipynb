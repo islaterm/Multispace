{
 "cells": [
  {
   "cell_type": "markdown",
   "source": [
    "# Tarea 1\n",
    "## Autor: Ignacio Slater Muñoz"
   ],
   "metadata": {
    "collapsed": false,
    "pycharm": {
     "name": "#%% md\n"
    }
   }
  },
  {
   "cell_type": "markdown",
   "source": [
    "### Parte 2: Distancia de edición\n",
    "\n",
    "Sea $M$ un espacio métrico compuesto por un conjunto de cadenas de caracteres, junto con la\n",
    "distancia de edición."
   ],
   "metadata": {
    "collapsed": false
   }
  },
  {
   "cell_type": "markdown",
   "source": [
    "#### Función de distancia\n",
    "La distancia de edición entre dos strings se puede definir en base al _algoritmo de Hirschberg_.\n",
    "\n",
    "Sea $\\mathbf{X}_i$ el i-ésimo carácter de $\\mathbf{X}$, donde\n",
    "$1 \\leq i \\leq \\mathit{lenght}(\\mathbf{X})$.\n",
    "Sea $\\mathbf{X}_{i:j}$ un substring de tamaño $j - i + 1$ que va desde el i-ésimo carácter hasta el\n",
    "j-ésimo.\n",
    "Sea $\\mathit{rev}(\\mathbf{X})$ el reverso de $\\mathbf{X}$.\n",
    "\n",
    "Sean $\\mathbf{X}$ e $\\mathbf{Y}$ las secuencias a alinear.\n",
    "Sea $x$ un carácter de $\\mathbf{X}$"
   ],
   "metadata": {
    "collapsed": false
   }
  }
 ],
 "metadata": {
  "kernelspec": {
   "display_name": "Python 3",
   "language": "python",
   "name": "python3"
  },
  "language_info": {
   "codemirror_mode": {
    "name": "ipython",
    "version": 2
   },
   "file_extension": ".py",
   "mimetype": "text/x-python",
   "name": "python",
   "nbconvert_exporter": "python",
   "pygments_lexer": "ipython2",
   "version": "2.7.6"
  }
 },
 "nbformat": 4,
 "nbformat_minor": 0
}