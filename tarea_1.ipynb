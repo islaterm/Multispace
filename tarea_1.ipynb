{
 "metadata": {
  "language_info": {
   "codemirror_mode": {
    "name": "ipython",
    "version": 3
   },
   "file_extension": ".py",
   "mimetype": "text/x-python",
   "name": "python",
   "nbconvert_exporter": "python",
   "pygments_lexer": "ipython3",
   "version": 3
  },
  "orig_nbformat": 4
 },
 "nbformat": 4,
 "nbformat_minor": 2,
 "cells": [
  {
   "source": [
    "# Tarea 1"
   ],
   "cell_type": "markdown",
   "metadata": {}
  },
  {
   "source": [
    "## Autor: Ignacio Slater Muñoz"
   ],
   "cell_type": "markdown",
   "metadata": {}
  },
  {
   "source": [
    "## Parte 1"
   ],
   "cell_type": "markdown",
   "metadata": {}
  },
  {
   "source": [
    "### Construcción de espacios vectoriales\n",
    "\n",
    "Se requieren espacios vectoriales de 2, 6, 10 y 20 dimensiones.\n",
    "Para esto, se proporciona una clase genérica para generar espacios vectoriales aleatorios de 100.000 puntos en el intervalo $[0, 1)$"
   ],
   "cell_type": "markdown",
   "metadata": {}
  },
  {
   "cell_type": "code",
   "execution_count": null,
   "metadata": {},
   "outputs": [],
   "source": [
    "class VectorSpace:\n",
    "    \"\"\"\n",
    "    An n-ary vectorial space.\n",
    "    \"\"\"\n",
    "    __arity: int\n",
    "    __points: ndarray\n",
    "\n",
    "    def __init__(self, v_arity: int, size: int):\n",
    "        \"\"\"\n",
    "        Creates a new vectorial space.\n",
    "\n",
    "        :param v_arity:\n",
    "            the number of dimensions of the vector space\n",
    "        :param size:\n",
    "            the number of points on the vector space\n",
    "        \"\"\"\n",
    "        self.__arity = v_arity\n",
    "        self.__points = numpy.random.rand(size, v_arity)\n",
    "\n",
    "    @property\n",
    "    def arity(self) -> int:\n",
    "        return self.__arity\n",
    "\n",
    "    @property\n",
    "    def points(self):\n",
    "        return self.__points.copy()\n",
    "\n",
    "    def __len__(self) -> int:\n",
    "        return len(self.__points)"
   ]
  },
  {
   "source": [
    "### Máximas distancias en espacios vectoriales\n",
    "\n",
    "Para cada espacio vectorial se calculan las máximas distancias posibles respecto a las funciones de distancia $L_1$, $L_2$ y $L_\\infty$.\n",
    "\n",
    "A continuación se presentan las implementaciones de cada una de estas funciones de distancia."
   ],
   "cell_type": "markdown",
   "metadata": {}
  },
  {
   "source": [
    "#### Distancia de Minkowski\n",
    "\n",
    "La distancia de Minkowski entre dos puntos $X = (x_1, x_2, \\dots, x_n)$ e $Y = (y_1, y_2, \\dots, y_n)$ se define como:\n",
    "$$\n",
    "    D(X, Y) = \\left(\\sum_{i = 1}^n |x_i - y_i|^p\\right)^\\frac{1}{p}\n",
    "$$"
   ],
   "cell_type": "markdown",
   "metadata": {}
  },
  {
   "source": [
    "Para esta implementación consideraremos que las dimensiones de $X$ e $Y$ deben ser iguales."
   ],
   "cell_type": "markdown",
   "metadata": {}
  },
  {
   "cell_type": "code",
   "execution_count": null,
   "metadata": {},
   "outputs": [],
   "source": [
    "class ArityMismatchException(Exception):\n",
    "    def __init__(self, v_1: ndarray, v_2: ndarray):\n",
    "        super(ArityMismatchException, self).__init__(\n",
    "            f\"Trying to operate vectors of different arities. v_1: {len(v_1)}, and v_2: {len(v_2)}\")"
   ]
  },
  {
   "source": [
    "Con estas definiciones podemos implementar esta métrica como:"
   ],
   "cell_type": "markdown",
   "metadata": {}
  },
  {
   "cell_type": "code",
   "execution_count": null,
   "metadata": {},
   "outputs": [],
   "source": [
    "def minkowski_distance(v_1: ndarray, v_2: ndarray, p: int) -> float:\n",
    "    \"\"\"\n",
    "    Computes the Minkowski distance of two n-ary points.\n",
    "\n",
    "    :param v_1:\n",
    "        the first point\n",
    "    :param v_2:\n",
    "        the second point\n",
    "    :param p:\n",
    "        the order of the metric\n",
    "    :return:\n",
    "        the distance between the points\n",
    "    :raises ArityMismatchException:\n",
    "        if the points have different arities\n",
    "    \"\"\"\n",
    "    arities = (len(v_1), len(v_2))\n",
    "    if arities[0] != arities[1]:\n",
    "        raise ArityMismatchException(v_1, v_2)\n",
    "    abs_diffs = numpy.abs(v_1 - v_2)\n",
    "    p_diffs: ndarray = abs_diffs ** p\n",
    "    return p_diffs.sum() ** (1 / p)"
   ]
  }
 ]
}